{
 "cells": [
  {
   "cell_type": "markdown",
   "metadata": {},
   "source": [
    "# コードの高速化"
   ]
  },
  {
   "cell_type": "markdown",
   "metadata": {},
   "source": [
    "課題2,4で書いたDAアルゴリズムのコードの高速化をしてみる"
   ]
  },
  {
   "cell_type": "markdown",
   "metadata": {},
   "source": [
    "prop_prefsとresp_prefsがVectorの時のやつを弄る。参照はここ（<https://gist.github.com/bicycle1885/626f59ff9e0375573470>）"
   ]
  },
  {
   "cell_type": "code",
   "execution_count": 1,
   "metadata": {
    "collapsed": false
   },
   "outputs": [
    {
     "data": {
      "text/plain": [
       "deferred_acceptance (generic function with 1 method)"
      ]
     },
     "execution_count": 1,
     "metadata": {},
     "output_type": "execute_result"
    }
   ],
   "source": [
    "function deferred_acceptance(m_prefs::Vector{Vector{Int}},f_prefs::Vector{Vector{Int}},caps::Vector{Int}) #元の関数\n",
    "    m = length(m_prefs)\n",
    "    n = length(f_prefs)\n",
    "    prop_prefs = zeros(Int64,n+1,m)\n",
    "    resp_prefs = zeros(Int64,m+1,n)\n",
    "    \n",
    "    for male in 1:m\n",
    "        num = length(m_prefs[male])\n",
    "        for p in 1:num\n",
    "            prop_prefs[p,male] = m_prefs[male][p]\n",
    "        end\n",
    "    end\n",
    "    for fem in 1:n\n",
    "        numf = length(f_prefs[fem])\n",
    "        for q in 1:numf\n",
    "            resp_prefs[q,fem] = f_prefs[fem][q]\n",
    "        end\n",
    "    end\n",
    "\n",
    "    m = size(prop_prefs,2)\n",
    "    n = size(resp_prefs,2)\n",
    "    prop_matches = zeros(Int64,m)\n",
    "    L = sum(caps)\n",
    "    resp_matches = zeros(Int64,L)\n",
    "    unchanged_counter = 0\n",
    "    next_m_approach = ones(Int64,m)\n",
    "    \n",
    "    indptr = Array{Int64}(n+1)\n",
    "    indptr[1] = 1\n",
    "    for i in 1:n\n",
    "        indptr[i+1] = indptr[i] + caps[i]\n",
    "    end\n",
    "    \n",
    "    while unchanged_counter < m\n",
    "        unchanged_counter = 0\n",
    "        for h in 1:m\n",
    "            if prop_matches[h] == 0\n",
    "                d = prop_prefs[next_m_approach[h],h]\n",
    "                if d == 0\n",
    "                    prop_matches[h] = 0\n",
    "                    unchanged_counter += 1\n",
    "                else\n",
    "                    a=resp_matches[indptr[d]:indptr[d+1]-1]\n",
    "                    b=zeros(Int64,caps[d])\n",
    "                    for i in 1:caps[d]\n",
    "                        b[i] = findfirst(resp_prefs[:,d],a[i])\n",
    "                    end\n",
    "                    c = maximum(b)\n",
    "                    x = findfirst(resp_prefs[:,d],h)\n",
    "                    if c > x && x != 0　\n",
    "                        prop_matches[h] = d\n",
    "                        r = findfirst(a,resp_prefs[c,d])\n",
    "                        if resp_matches[indptr[d]-1+r] != 0\n",
    "                            prop_matches[resp_prefs[c,d]] = 0\n",
    "                            next_m_approach[resp_prefs[c,d]] += 1\n",
    "                        end\n",
    "                        resp_matches[indptr[d]-1+r] = h\n",
    "                    else\n",
    "                        next_m_approach[h] += 1\n",
    "                    end\n",
    "                end\n",
    "            else unchanged_counter += 1 \n",
    "            end\n",
    "        end\n",
    "    end\n",
    "    return prop_matches,resp_matches,indptr\n",
    "end"
   ]
  },
  {
   "cell_type": "code",
   "execution_count": 2,
   "metadata": {
    "collapsed": false
   },
   "outputs": [
    {
     "data": {
      "text/plain": [
       "_randperm2d!"
      ]
     },
     "execution_count": 2,
     "metadata": {},
     "output_type": "execute_result"
    }
   ],
   "source": [
    "include(\"matching_tools.jl\")"
   ]
  },
  {
   "cell_type": "code",
   "execution_count": 3,
   "metadata": {
    "collapsed": true
   },
   "outputs": [],
   "source": [
    "prop_prefs, resp_prefs, caps = random_prefs(2000, 2000, ReturnCaps, allow_unmatched=false);"
   ]
  },
  {
   "cell_type": "code",
   "execution_count": 4,
   "metadata": {
    "collapsed": false
   },
   "outputs": [
    {
     "data": {
      "text/plain": [
       "mat2vecs (generic function with 1 method)"
      ]
     },
     "execution_count": 4,
     "metadata": {},
     "output_type": "execute_result"
    }
   ],
   "source": [
    "function mat2vecs{T<:Integer}(prefs::Matrix{T})\n",
    "    return [prefs[1:findfirst(prefs[:, j], 0)-1, j] for j in 1:size(prefs, 2)]\n",
    "end"
   ]
  },
  {
   "cell_type": "code",
   "execution_count": 5,
   "metadata": {
    "collapsed": false
   },
   "outputs": [],
   "source": [
    "prop_prefs_v = mat2vecs(prop_prefs)\n",
    "resp_prefs_v = mat2vecs(resp_prefs);"
   ]
  },
  {
   "cell_type": "code",
   "execution_count": 6,
   "metadata": {
    "collapsed": false
   },
   "outputs": [
    {
     "name": "stdout",
     "output_type": "stream",
     "text": [
      " 21.432121 seconds (5.55 M allocations: 30.579 GiB, 10.41% gc time)\n",
      " 17.680196 seconds (5.52 M allocations: 30.578 GiB, 8.56% gc time)\n",
      " 17.570870 seconds (5.52 M allocations: 30.578 GiB, 8.01% gc time)\n"
     ]
    },
    {
     "data": {
      "text/plain": [
       "([1350, 1997, 1028, 1814, 1069, 991, 884, 1226, 1986, 1668  …  1126, 534, 1580, 7, 752, 1701, 385, 1147, 1790, 782], [129, 0, 0, 0, 0, 0, 0, 0, 0, 0  …  0, 0, 0, 0, 0, 0, 0, 0, 0, 0], [1, 994, 1499, 3337, 3411, 4067, 4445, 5268, 5749, 6790  …  1979201, 1981040, 1982795, 1983720, 1984910, 1986856, 1988255, 1989857, 1990389, 1991055])"
      ]
     },
     "execution_count": 6,
     "metadata": {},
     "output_type": "execute_result"
    }
   ],
   "source": [
    "@time deferred_acceptance(prop_prefs_v,resp_prefs_v,caps)\n",
    "@time deferred_acceptance(prop_prefs_v,resp_prefs_v,caps)\n",
    "@time deferred_acceptance(prop_prefs_v,resp_prefs_v,caps)"
   ]
  },
  {
   "cell_type": "markdown",
   "metadata": {},
   "source": [
    "JuliaのProfileモジュールを使用してプロファイリングを行う。"
   ]
  },
  {
   "cell_type": "code",
   "execution_count": 7,
   "metadata": {
    "collapsed": false,
    "scrolled": true
   },
   "outputs": [
    {
     "name": "stdout",
     "output_type": "stream",
     "text": [
      "4    .\\array.jl:1213; findnext(::Array{Int64,1}, ::Int...\n",
      "6636 .\\task.jl:335; (::IJulia.##11#14)()\n",
      " 6636 ...Julia\\src\\eventloop.jl:8; eventloop(::ZMQ.Socket)\n",
      "  6636 ...rc\\execute_request.jl:160; execute_request(::ZMQ.Socket, ::...\n",
      "   6635 .\\<missing>:?; anonymous\n",
      "    6635 .\\profile.jl:23; macro expansion\n",
      "     8    .\\In[1]:4; deferred_acceptance(::Array{A...\n",
      "      5 .\\array.jl:227; fill!(::Array{Int64,2}, ::Int64)\n",
      "      1 .\\array.jl:228; fill!(::Array{Int64,2}, ::Int64)\n",
      "     8    .\\In[1]:5; deferred_acceptance(::Array{A...\n",
      "      5 .\\array.jl:227; fill!(::Array{Int64,2}, ::Int64)\n",
      "      2 .\\array.jl:228; fill!(::Array{Int64,2}, ::Int64)\n",
      "     7    .\\In[1]:10; deferred_acceptance(::Array{A...\n",
      "     1    .\\In[1]:15; deferred_acceptance(::Array{A...\n",
      "     7    .\\In[1]:16; deferred_acceptance(::Array{A...\n",
      "     4    .\\In[1]:24; deferred_acceptance(::Array{A...\n",
      "     9    .\\In[1]:43; deferred_acceptance(::Array{A...\n",
      "      3 .\\array.jl:528; getindex\n",
      "      6 .\\array.jl:530; getindex\n",
      "     6    .\\In[1]:44; deferred_acceptance(::Array{A...\n",
      "     4243 .\\In[1]:46; deferred_acceptance(::Array{A...\n",
      "      4203 .\\abstractarray.jl:882; getindex\n",
      "       4203 .\\multidimensional.jl:438; _getindex\n",
      "        1    .\\multidimensional.jl:441; macro expansion\n",
      "         1 .\\abstractarray.jl:362; checkbounds\n",
      "          1 .\\abstractarray.jl:342; checkbounds\n",
      "           1 .\\abstractarray.jl:64; indices\n",
      "        4202 .\\multidimensional.jl:442; macro expansion\n",
      "         15   .\\multidimensional.jl:0; _unsafe_getindex(::IndexLin...\n",
      "         3522 .\\multidimensional.jl:453; _unsafe_getindex(::IndexLin...\n",
      "          1    ...ltidimensional.jl:456; macro expansion\n",
      "          706  ...ltidimensional.jl:458; macro expansion\n",
      "          7    ...ltidimensional.jl:459; macro expansion\n",
      "           2 .\\abstractarray.jl:64; indices\n",
      "          2794 ...ltidimensional.jl:460; macro expansion\n",
      "           2794 ...ltidimensional.jl:466; _unsafe_getindex!\n",
      "            1    ...ltidimensional.jl:470; macro expansion\n",
      "             1 .\\abstractarray.jl:763; eachindex\n",
      "              1 .\\abstractarray.jl:71; indices1\n",
      "               1 .\\abstractarray.jl:64; indices\n",
      "            2793 ...ltidimensional.jl:472; macro expansion\n",
      "             93   .\\cartesian.jl:62; macro expansion\n",
      "             2700 .\\cartesian.jl:64; macro expansion\n",
      "              2700 ...tidimensional.jl:474; macro expansion\n",
      "      2    .\\array.jl:1213; findnext(::Array{Int64,1}, ::...\n",
      "     2    .\\In[1]:48; deferred_acceptance(::Array{A...\n",
      "     11   .\\In[1]:49; deferred_acceptance(::Array{A...\n",
      "      10 .\\abstractarray.jl:882; getindex\n",
      "       10 .\\multidimensional.jl:438; _getindex\n",
      "        10 .\\multidimensional.jl:442; macro expansion\n",
      "         10 .\\multidimensional.jl:453; _unsafe_getindex(::IndexLinea...\n",
      "          1 .\\multidimensional.jl:458; macro expansion\n",
      "          9 .\\multidimensional.jl:460; macro expansion\n",
      "           9 .\\multidimensional.jl:466; _unsafe_getindex!\n",
      "            9 .\\multidimensional.jl:472; macro expansion\n",
      "             9 .\\cartesian.jl:64; macro expansion\n",
      "              9 ...ltidimensional.jl:474; macro expansion\n",
      "     2    .\\In[1]:53; deferred_acceptance(::Array{A...\n",
      "     504  .\\array.jl:1212; findnext(::Array{Int64,1}, ::...\n",
      "     1823 .\\array.jl:1213; findnext(::Array{Int64,1}, ::...\n"
     ]
    }
   ],
   "source": [
    "Profile.clear()\n",
    "@profile deferred_acceptance(prop_prefs_v,resp_prefs_v,caps)\n",
    "Profile.print()"
   ]
  },
  {
   "cell_type": "markdown",
   "metadata": {},
   "source": [
    "とりあえず一番左の数字が大きいところが時間がかかっている部分らしい。ここだと46行目のfindfirstのところらしいですが・・・"
   ]
  },
  {
   "cell_type": "code",
   "execution_count": 8,
   "metadata": {
    "collapsed": false
   },
   "outputs": [
    {
     "name": "stdout",
     "output_type": "stream",
     "text": [
      "Variables:\n",
      "  #self#::#deferred_acceptance\n",
      "  m_prefs::Array{Array{Int64,1},1}\n",
      "  f_prefs::Array{Array{Int64,1},1}\n",
      "  caps::Array{Int64,1}\n",
      "  p::Int64\n",
      "  #temp#@_6::Int64\n",
      "  male::Int64\n",
      "  num::Int64\n",
      "  #temp#@_9::Int64\n",
      "  q::Int64\n",
      "  #temp#@_11::Int64\n",
      "  fem::Int64\n",
      "  numf::Int64\n",
      "  #temp#@_14::Int64\n",
      "  i@_15::Int64\n",
      "  #temp#@_16::Int64\n",
      "  i@_17::Int64\n",
      "  #temp#@_18::Int64\n",
      "  h::Int64\n",
      "  d::Int64\n",
      "  a\u001b[1m\u001b[91m::Any\u001b[39m\u001b[22m\n",
      "  b@_22::Array{Int64,1}\n",
      "  c::Int64\n",
      "  x::Int64\n",
      "  r::Int64\n",
      "  #temp#@_26::Int64\n",
      "  prop_prefs::Array{Int64,2}\n",
      "  resp_prefs::Array{Int64,2}\n",
      "  m::Int64\n",
      "  n::Int64\n",
      "  prop_matches::Array{Int64,1}\n",
      "  L::Int64\n",
      "  resp_matches::Array{Int64,1}\n",
      "  unchanged_counter::Int64\n",
      "  next_m_approach::Array{Int64,1}\n",
      "  indptr::Array{Int64,1}\n",
      "  #temp#@_37::Bool\n",
      "  lI::Int64\n",
      "  X::Array{Int64,1}\n",
      "  z@_40::Int64\n",
      "  b@_41::Bool\n",
      "  #temp#@_42::Int64\n",
      "  z@_43::Int64\n",
      "  b@_44::Bool\n",
      "  #temp#@_45::Int64\n",
      "\n",
      "Body:\n",
      "  begin \n",
      "      NewvarNode(:(prop_matches::Array{Int64,1}))\n",
      "      NewvarNode(:(L::Int64))\n",
      "      NewvarNode(:(resp_matches::Array{Int64,1}))\n",
      "      NewvarNode(:(unchanged_counter::Int64))\n",
      "      NewvarNode(:(next_m_approach::Array{Int64,1}))\n",
      "      NewvarNode(:(indptr::Array{Int64,1}))\n",
      "      m::Int64 = (Base.arraylen)(m_prefs::Array{Array{Int64,1},1})::Int64 # line 3:\n",
      "      n::Int64 = (Base.arraylen)(f_prefs::Array{Array{Int64,1},1})::Int64 # line 4:\n",
      "      SSAValue(108) = (Base.add_int)(n::Int64, 1)::Int64\n",
      "      SSAValue(109) = m::Int64\n",
      "      $(Expr(:inbounds, false))\n",
      "      # meta: location array.jl zeros 265\n",
      "      # meta: location array.jl zeros 263\n",
      "      SSAValue(25) = SSAValue(108)\n",
      "      SSAValue(26) = SSAValue(109)\n",
      "      # meta: pop location\n",
      "      # meta: pop location\n",
      "      $(Expr(:inbounds, :pop))\n",
      "      prop_prefs::Array{Int64,2} = $(Expr(:invoke, MethodInstance for fill!(::Array{Int64,2}, ::Int64), :(Base.fill!), :($(Expr(:foreigncall, :(:jl_alloc_array_2d), Array{Int64,2}, svec(Any, Int64, Int64), Array{Int64,2}, 0, SSAValue(25), 0, SSAValue(26), 0))), 0)) # line 5:\n",
      "      SSAValue(110) = (Base.add_int)(m::Int64, 1)::Int64\n",
      "      SSAValue(111) = n::Int64\n",
      "      $(Expr(:inbounds, false))\n",
      "      # meta: location array.jl zeros 265\n",
      "      # meta: location array.jl zeros 263\n",
      "      SSAValue(31) = SSAValue(110)\n",
      "      SSAValue(32) = SSAValue(111)\n",
      "      # meta: pop location\n",
      "      # meta: pop location\n",
      "      $(Expr(:inbounds, :pop))\n",
      "      resp_prefs::Array{Int64,2} = $(Expr(:invoke, MethodInstance for fill!(::Array{Int64,2}, ::Int64), :(Base.fill!), :($(Expr(:foreigncall, :(:jl_alloc_array_2d), Array{Int64,2}, svec(Any, Int64, Int64), Array{Int64,2}, 0, SSAValue(31), 0, SSAValue(32), 0))), 0)) # line 7:\n",
      "      SSAValue(112) = (Base.select_value)((Base.sle_int)(1, m::Int64)::Bool, m::Int64, (Base.sub_int)(1, 1)::Int64)::Int64\n",
      "      #temp#@_9::Int64 = 1\n",
      "      37: \n",
      "      unless (Base.not_int)((#temp#@_9::Int64 === (Base.add_int)(SSAValue(112), 1)::Int64)::Bool)::Bool goto 61\n",
      "      SSAValue(113) = #temp#@_9::Int64\n",
      "      SSAValue(114) = (Base.add_int)(#temp#@_9::Int64, 1)::Int64\n",
      "      male::Int64 = SSAValue(113)\n",
      "      #temp#@_9::Int64 = SSAValue(114) # line 8:\n",
      "      num::Int64 = (Base.arraylen)((Base.arrayref)(m_prefs::Array{Array{Int64,1},1}, male::Int64)::Array{Int64,1})::Int64 # line 9:\n",
      "      SSAValue(115) = (Base.select_value)((Base.sle_int)(1, num::Int64)::Bool, num::Int64, (Base.sub_int)(1, 1)::Int64)::Int64\n",
      "      #temp#@_6::Int64 = 1\n",
      "      48: \n",
      "      unless (Base.not_int)((#temp#@_6::Int64 === (Base.add_int)(SSAValue(115), 1)::Int64)::Bool)::Bool goto 59\n",
      "      SSAValue(116) = #temp#@_6::Int64\n",
      "      SSAValue(117) = (Base.add_int)(#temp#@_6::Int64, 1)::Int64\n",
      "      p::Int64 = SSAValue(116)\n",
      "      #temp#@_6::Int64 = SSAValue(117) # line 10:\n",
      "      SSAValue(4) = (Base.arrayref)((Base.arrayref)(m_prefs::Array{Array{Int64,1},1}, male::Int64)::Array{Int64,1}, p::Int64)::Int64\n",
      "      (Base.arrayset)(prop_prefs::Array{Int64,2}, SSAValue(4), p::Int64, male::Int64)::Array{Int64,2}\n",
      "      57: \n",
      "      goto 48\n",
      "      59: \n",
      "      goto 37\n",
      "      61:  # line 13:\n",
      "      SSAValue(118) = (Base.select_value)((Base.sle_int)(1, n::Int64)::Bool, n::Int64, (Base.sub_int)(1, 1)::Int64)::Int64\n",
      "      #temp#@_14::Int64 = 1\n",
      "      65: \n",
      "      unless (Base.not_int)((#temp#@_14::Int64 === (Base.add_int)(SSAValue(118), 1)::Int64)::Bool)::Bool goto 89\n",
      "      SSAValue(119) = #temp#@_14::Int64\n",
      "      SSAValue(120) = (Base.add_int)(#temp#@_14::Int64, 1)::Int64\n",
      "      fem::Int64 = SSAValue(119)\n",
      "      #temp#@_14::Int64 = SSAValue(120) # line 14:\n",
      "      numf::Int64 = (Base.arraylen)((Base.arrayref)(f_prefs::Array{Array{Int64,1},1}, fem::Int64)::Array{Int64,1})::Int64 # line 15:\n",
      "      SSAValue(121) = (Base.select_value)((Base.sle_int)(1, numf::Int64)::Bool, numf::Int64, (Base.sub_int)(1, 1)::Int64)::Int64\n",
      "      #temp#@_11::Int64 = 1\n",
      "      76: \n",
      "      unless (Base.not_int)((#temp#@_11::Int64 === (Base.add_int)(SSAValue(121), 1)::Int64)::Bool)::Bool goto 87\n",
      "      SSAValue(122) = #temp#@_11::Int64\n",
      "      SSAValue(123) = (Base.add_int)(#temp#@_11::Int64, 1)::Int64\n",
      "      q::Int64 = SSAValue(122)\n",
      "      #temp#@_11::Int64 = SSAValue(123) # line 16:\n",
      "      SSAValue(9) = (Base.arrayref)((Base.arrayref)(f_prefs::Array{Array{Int64,1},1}, fem::Int64)::Array{Int64,1}, q::Int64)::Int64\n",
      "      (Base.arrayset)(resp_prefs::Array{Int64,2}, SSAValue(9), q::Int64, fem::Int64)::Array{Int64,2}\n",
      "      85: \n",
      "      goto 76\n",
      "      87: \n",
      "      goto 65\n",
      "      89:  # line 20:\n",
      "      m::Int64 = (Base.arraysize)(prop_prefs::Array{Int64,2}, 2)::Int64 # line 21:\n",
      "      n::Int64 = (Base.arraysize)(resp_prefs::Array{Int64,2}, 2)::Int64 # line 22:\n",
      "      prop_matches::Array{Int64,1} = $(Expr(:invoke, MethodInstance for fill!(::Array{Int64,1}, ::Int64), :(Base.fill!), :($(Expr(:foreigncall, :(:jl_alloc_array_1d), Array{Int64,1}, svec(Any, Int64), Array{Int64,1}, 0, :(m), 0))), 0)) # line 23:\n",
      "      L::Int64 = $(Expr(:invoke, MethodInstance for _mapreduce(::Base.#identity, ::Base.#+, ::IndexLinear, ::Array{Int64,1}), :(Base._mapreduce), :(Base.identity), :(Base.+), :($(QuoteNode(IndexLinear()))), :(caps))) # line 24:\n",
      "      resp_matches::Array{Int64,1} = $(Expr(:invoke, MethodInstance for fill!(::Array{Int64,1}, ::Int64), :(Base.fill!), :($(Expr(:foreigncall, :(:jl_alloc_array_1d), Array{Int64,1}, svec(Any, Int64), Array{Int64,1}, 0, :(L), 0))), 0)) # line 25:\n",
      "      unchanged_counter::Int64 = 0 # line 26:\n",
      "      next_m_approach::Array{Int64,1} = $(Expr(:invoke, MethodInstance for fill!(::Array{Int64,1}, ::Int64), :(Base.fill!), :($(Expr(:foreigncall, :(:jl_alloc_array_1d), Array{Int64,1}, svec(Any, Int64), Array{Int64,1}, 0, :(m), 0))), 1)) # line 28:\n",
      "      indptr::Array{Int64,1} = $(Expr(:foreigncall, :(:jl_alloc_array_1d), Array{Int64,1}, svec(Any, Int64), Array{Int64,1}, 0, :((Base.add_int)(n, 1)::Int64), 0)) # line 29:\n",
      "      (Base.arrayset)(indptr::Array{Int64,1}, 1, 1)::Array{Int64,1} # line 30:\n",
      "      SSAValue(124) = (Base.select_value)((Base.sle_int)(1, n::Int64)::Bool, n::Int64, (Base.sub_int)(1, 1)::Int64)::Int64\n",
      "      #temp#@_16::Int64 = 1\n",
      "      111: \n",
      "      unless (Base.not_int)((#temp#@_16::Int64 === (Base.add_int)(SSAValue(124), 1)::Int64)::Bool)::Bool goto 122\n",
      "      SSAValue(125) = #temp#@_16::Int64\n",
      "      SSAValue(126) = (Base.add_int)(#temp#@_16::Int64, 1)::Int64\n",
      "      i@_15::Int64 = SSAValue(125)\n",
      "      #temp#@_16::Int64 = SSAValue(126) # line 31:\n",
      "      SSAValue(12) = (Base.add_int)((Base.arrayref)(indptr::Array{Int64,1}, i@_15::Int64)::Int64, (Base.arrayref)(caps::Array{Int64,1}, i@_15::Int64)::Int64)::Int64\n",
      "      (Base.arrayset)(indptr::Array{Int64,1}, SSAValue(12), (Base.add_int)(i@_15::Int64, 1)::Int64)::Array{Int64,1}\n",
      "      120: \n",
      "      goto 111\n",
      "      122:  # line 34:\n",
      "      124: \n",
      "      unless (Base.slt_int)(unchanged_counter::Int64, m::Int64)::Bool goto 382 # line 35:\n",
      "      unchanged_counter::Int64 = 0 # line 36:\n",
      "      SSAValue(127) = (Base.select_value)((Base.sle_int)(1, m::Int64)::Bool, m::Int64, (Base.sub_int)(1, 1)::Int64)::Int64\n",
      "      #temp#@_26::Int64 = 1\n",
      "      131: \n",
      "      unless (Base.not_int)((#temp#@_26::Int64 === (Base.add_int)(SSAValue(127), 1)::Int64)::Bool)::Bool goto 380\n",
      "      NewvarNode(:(d::Int64))\n",
      "      NewvarNode(:(b@_22::Array{Int64,1}))\n",
      "      NewvarNode(:(c::Int64))\n",
      "      NewvarNode(:(x::Int64))\n",
      "      NewvarNode(:(r::Int64))\n",
      "      SSAValue(128) = #temp#@_26::Int64\n",
      "      SSAValue(129) = (Base.add_int)(#temp#@_26::Int64, 1)::Int64\n",
      "      h::Int64 = SSAValue(128)\n",
      "      #temp#@_26::Int64 = SSAValue(129) # line 37:\n",
      "      unless ((Base.arrayref)(prop_matches::Array{Int64,1}, h::Int64)::Int64 === 0)::Bool goto 375 # line 38:\n",
      "      d::Int64 = (Base.arrayref)(prop_prefs::Array{Int64,2}, (Base.arrayref)(next_m_approach::Array{Int64,1}, h::Int64)::Int64, h::Int64)::Int64 # line 39:\n",
      "      unless (d::Int64 === 0)::Bool goto 153 # line 40:\n",
      "      (Base.arrayset)(prop_matches::Array{Int64,1}, 0, h::Int64)::Array{Int64,1} # line 41:\n",
      "      unchanged_counter::Int64 = (Base.add_int)(unchanged_counter::Int64, 1)::Int64\n",
      "      goto 373\n",
      "      153:  # line 43:\n",
      "      SSAValue(38) = (Base.arrayref)(indptr::Array{Int64,1}, d::Int64)::Int64\n",
      "      SSAValue(37) = (Base.sub_int)((Base.arrayref)(indptr::Array{Int64,1}, (Base.add_int)(d::Int64, 1)::Int64)::Int64, 1)::Int64\n",
      "      SSAValue(39) = $(Expr(:new, UnitRange{Int64}, SSAValue(38), :((Base.select_value)((Base.sle_int)(SSAValue(38), SSAValue(37))::Bool, SSAValue(37), (Base.sub_int)(SSAValue(38), 1)::Int64)::Int64)))\n",
      "      $(Expr(:inbounds, false))\n",
      "      # meta: location array.jl getindex 526\n",
      "      SSAValue(40) = (Core.tuple)(SSAValue(39))::Tuple{UnitRange{Int64}}\n",
      "      # meta: location abstractarray.jl checkbounds 362\n",
      "      SSAValue(42) = (Core.getfield)(SSAValue(40), 1)::UnitRange{Int64}\n",
      "      # meta: location abstractarray.jl checkbounds 347\n",
      "      # meta: location abstractarray.jl linearindices 99\n",
      "      # meta: location abstractarray.jl indices1 71\n",
      "      # meta: location abstractarray.jl indices 64\n",
      "      SSAValue(45) = (Base.arraysize)(resp_matches::Array{Int64,1}, 1)::Int64\n",
      "      # meta: pop location\n",
      "      # meta: pop location\n",
      "      # meta: pop location\n",
      "      SSAValue(49) = (Base.select_value)((Base.slt_int)(SSAValue(45), 0)::Bool, 0, SSAValue(45))::Int64\n",
      "      # meta: location abstractarray.jl checkindex 459\n",
      "      SSAValue(48) = (Core.getfield)(SSAValue(42), :start)::Int64\n",
      "      SSAValue(47) = (Core.getfield)(SSAValue(42), :stop)::Int64\n",
      "      # meta: pop location\n",
      "      # meta: pop location\n",
      "      SSAValue(41) = (Base.or_int)((Base.slt_int)((Core.getfield)(SSAValue(42), :stop)::Int64, (Core.getfield)(SSAValue(42), :start)::Int64)::Bool, (Base.and_int)((Base.and_int)((Base.sle_int)(1, SSAValue(48))::Bool, (Base.sle_int)(SSAValue(48), SSAValue(49))::Bool)::Bool, (Base.and_int)((Base.sle_int)(1, SSAValue(47))::Bool, (Base.sle_int)(SSAValue(47), SSAValue(49))::Bool)::Bool)::Bool)::Bool\n",
      "      unless SSAValue(41) goto 180\n",
      "      goto 182\n",
      "      180: \n",
      "      $(Expr(:invoke, MethodInstance for throw_boundserror(::Array{Int64,1}, ::Tuple{UnitRange{Int64}}), :(Base.throw_boundserror), :(resp_matches), SSAValue(40)))\n",
      "      182: \n",
      "      # meta: pop location # line 527:\n",
      "      # meta: location range.jl length 393\n",
      "      # meta: location checked.jl checked_sub 221\n",
      "      SSAValue(50) = (Base.Checked.checked_ssub_int)((Core.getfield)(SSAValue(39), :stop)::Int64, (Core.getfield)(SSAValue(39), :start)::Int64)::Tuple{Int64,Bool}\n",
      "      SSAValue(53) = (Base.getfield)(SSAValue(50), 1)::Int64\n",
      "      SSAValue(55) = (Base.getfield)(SSAValue(50), 2)::Bool # line 222:\n",
      "      unless SSAValue(55) goto 193\n",
      "      (Base.Checked.throw)($(QuoteNode(OverflowError())))\u001b[1m\u001b[91m::Union{}\u001b[39m\u001b[22m\n",
      "      193: \n",
      "      # meta: pop location\n",
      "      # meta: location checked.jl checked_add 164\n",
      "      SSAValue(57) = (Base.Checked.checked_sadd_int)(SSAValue(53), 1)::Tuple{Int64,Bool}\n",
      "      SSAValue(60) = (Base.getfield)(SSAValue(57), 1)::Int64\n",
      "      SSAValue(62) = (Base.getfield)(SSAValue(57), 2)::Bool # line 165:\n",
      "      unless SSAValue(62) goto 202\n",
      "      (Base.Checked.throw)($(QuoteNode(OverflowError())))\u001b[1m\u001b[91m::Union{}\u001b[39m\u001b[22m\n",
      "      202: \n",
      "      # meta: pop location\n",
      "      # meta: pop location # line 528:\n",
      "      X::Array{Int64,1} = $(Expr(:foreigncall, :(:jl_alloc_array_1d), Array{Int64,1}, svec(Any, Int64), Array{Int64,1}, 0, SSAValue(60), 0)) # line 529:\n",
      "      unless (Base.slt_int)(0, SSAValue(60))::Bool goto 211 # line 530:\n",
      "      $(Expr(:invoke, MethodInstance for unsafe_copy!(::Array{Int64,1}, ::Int64, ::Array{Int64,1}, ::Int64, ::Int64), :(Base.unsafe_copy!), :(X), 1, :(resp_matches), :((Core.getfield)(SSAValue(39), :start)::Int64), SSAValue(60)))\n",
      "      211: \n",
      "      # meta: pop location\n",
      "      $(Expr(:inbounds, :pop)) # line 44:\n",
      "      SSAValue(65) = (Base.arrayref)(caps::Array{Int64,1}, d::Int64)::Int64\n",
      "      b@_22::Array{Int64,1} = $(Expr(:invoke, MethodInstance for fill!(::Array{Int64,1}, ::Int64), :(Base.fill!), :($(Expr(:foreigncall, :(:jl_alloc_array_1d), Array{Int64,1}, svec(Any, Int64), Array{Int64,1}, 0, SSAValue(65), 0))), 0)) # line 45:\n",
      "      SSAValue(67) = (Base.arrayref)(caps::Array{Int64,1}, d::Int64)::Int64\n",
      "      SSAValue(130) = (Base.select_value)((Base.sle_int)(1, SSAValue(67))::Bool, SSAValue(67), (Base.sub_int)(1, 1)::Int64)::Int64\n",
      "      #temp#@_18::Int64 = 1\n",
      "      221: \n",
      "      unless (Base.not_int)((#temp#@_18::Int64 === (Base.add_int)(SSAValue(130), 1)::Int64)::Bool)::Bool goto 285\n",
      "      SSAValue(131) = #temp#@_18::Int64\n",
      "      SSAValue(132) = (Base.add_int)(#temp#@_18::Int64, 1)::Int64\n",
      "      i@_17::Int64 = SSAValue(131)\n",
      "      #temp#@_18::Int64 = SSAValue(132) # line 46:\n",
      "      # meta: location abstractarray.jl getindex 882\n",
      "      $(Expr(:inbounds, false))\n",
      "      # meta: location indices.jl to_indices 213\n",
      "      # meta: location abstractarray.jl indices 64\n",
      "      SSAValue(71) = (Base.arraysize)(resp_prefs::Array{Int64,2}, 1)::Int64\n",
      "      (Base.arraysize)(resp_prefs::Array{Int64,2}, 2)::Int64\n",
      "      # meta: pop location\n",
      "      # meta: location multidimensional.jl to_indices 416\n",
      "      # meta: location multidimensional.jl uncolon 426\n",
      "      # meta: location indices.jl Type 233\n",
      "      # meta: location indices.jl Type 233\n",
      "      # meta: location range.jl convert 764\n",
      "      SSAValue(73) = (Base.select_value)((Base.slt_int)(SSAValue(71), 0)::Bool, 0, SSAValue(71))::Int64\n",
      "      # meta: pop location\n",
      "      # meta: pop location\n",
      "      # meta: pop location\n",
      "      # meta: pop location\n",
      "      # meta: pop location\n",
      "      # meta: pop location\n",
      "      $(Expr(:inbounds, :pop))\n",
      "      SSAValue(84) = $(Expr(:new, Base.Slice{Base.OneTo{Int64}}, :($(Expr(:new, Base.OneTo{Int64}, :((Base.select_value)((Base.slt_int)(SSAValue(73), 0)::Bool, 0, SSAValue(73))::Int64))))))\n",
      "      SSAValue(85) = d::Int64\n",
      "      $(Expr(:inbounds, false))\n",
      "      # meta: location multidimensional.jl _getindex 438\n",
      "      # meta: location multidimensional.jl # line 441:\n",
      "      SSAValue(76) = (Core.tuple)(SSAValue(84), SSAValue(85))::Tuple{Base.Slice{Base.OneTo{Int64}},Int64}\n",
      "      # meta: location abstractarray.jl checkbounds 362\n",
      "      # meta: location abstractarray.jl checkbounds 342\n",
      "      # meta: location abstractarray.jl indices 64\n",
      "      (Base.arraysize)(resp_prefs::Array{Int64,2}, 1)::Int64\n",
      "      SSAValue(82) = (Base.arraysize)(resp_prefs::Array{Int64,2}, 2)::Int64\n",
      "      # meta: pop location\n",
      "      # meta: location abstractarray.jl checkbounds_indices 389\n",
      "      # meta: location abstractarray.jl checkbounds_indices 402\n",
      "      SSAValue(83) = (Core.getfield)(SSAValue(76), 2)::Int64\n",
      "      # meta: pop location\n",
      "      # meta: pop location\n",
      "      # meta: pop location\n",
      "      SSAValue(77) = (Base.and_int)(true, (Base.and_int)((Base.sle_int)(1, SSAValue(83))::Bool, (Base.sle_int)(SSAValue(83), (Base.select_value)((Base.slt_int)(SSAValue(82), 0)::Bool, 0, SSAValue(82))::Int64)::Bool)::Bool)::Bool\n",
      "      unless SSAValue(77) goto 270\n",
      "      goto 272\n",
      "      270: \n",
      "      $(Expr(:invoke, MethodInstance for throw_boundserror(::Array{Int64,2}, ::Tuple{Base.Slice{Base.OneTo{Int64}},Int64}), :(Base.throw_boundserror), :(resp_prefs), SSAValue(76)))\n",
      "      272: \n",
      "      # meta: pop location # line 442:\n",
      "      SSAValue(75) = $(Expr(:invoke, MethodInstance for _unsafe_getindex(::IndexLinear, ::Array{Int64,2}, ::Base.Slice{Base.OneTo{Int64}}, ::Int64), :(Base._unsafe_getindex), :($(QuoteNode(IndexLinear()))), :(resp_prefs), SSAValue(84), SSAValue(85)))\n",
      "      # meta: pop location\n",
      "      # meta: pop location\n",
      "      $(Expr(:inbounds, :pop))\n",
      "      # meta: pop location\n",
      "      SSAValue(86) = (Base.arrayref)(X::Array{Int64,1}, i@_17::Int64)::Int64\n",
      "      SSAValue(17) = $(Expr(:invoke, MethodInstance for findnext(::Array{Int64,1}, ::Int64, ::Int64), :(Base.findnext), SSAValue(75), SSAValue(86), 1))\n",
      "      (Base.arrayset)(b@_22::Array{Int64,1}, SSAValue(17), i@_17::Int64)::Array{Int64,1}\n",
      "      283: \n",
      "      goto 221\n",
      "      285:  # line 48:\n",
      "      c::Int64 = $(Expr(:invoke, MethodInstance for _mapreduce(::Base.#identity, ::Base.#scalarmax, ::IndexLinear, ::Array{Int64,1}), :(Base._mapreduce), :(Base.identity), :(Base.scalarmax), :($(QuoteNode(IndexLinear()))), :(b@_22))) # line 49:\n",
      "      # meta: location abstractarray.jl getindex 882\n",
      "      $(Expr(:inbounds, false))\n",
      "      # meta: location indices.jl to_indices 213\n",
      "      # meta: location abstractarray.jl indices 64\n",
      "      SSAValue(90) = (Base.arraysize)(resp_prefs::Array{Int64,2}, 1)::Int64\n",
      "      (Base.arraysize)(resp_prefs::Array{Int64,2}, 2)::Int64\n",
      "      # meta: pop location\n",
      "      # meta: location multidimensional.jl to_indices 416\n",
      "      # meta: location multidimensional.jl uncolon 426\n",
      "      # meta: location indices.jl Type 233\n",
      "      # meta: location indices.jl Type 233\n",
      "      # meta: location range.jl convert 764\n",
      "      SSAValue(92) = (Base.select_value)((Base.slt_int)(SSAValue(90), 0)::Bool, 0, SSAValue(90))::Int64\n",
      "      # meta: pop location\n",
      "      # meta: pop location\n",
      "      # meta: pop location\n",
      "      # meta: pop location\n",
      "      # meta: pop location\n",
      "      # meta: pop location\n",
      "      $(Expr(:inbounds, :pop))\n",
      "      SSAValue(103) = $(Expr(:new, Base.Slice{Base.OneTo{Int64}}, :($(Expr(:new, Base.OneTo{Int64}, :((Base.select_value)((Base.slt_int)(SSAValue(92), 0)::Bool, 0, SSAValue(92))::Int64))))))\n",
      "      SSAValue(104) = d::Int64\n",
      "      $(Expr(:inbounds, false))\n",
      "      # meta: location multidimensional.jl _getindex 438\n",
      "      # meta: location multidimensional.jl # line 441:\n",
      "      SSAValue(95) = (Core.tuple)(SSAValue(103), SSAValue(104))::Tuple{Base.Slice{Base.OneTo{Int64}},Int64}\n",
      "      # meta: location abstractarray.jl checkbounds 362\n",
      "      # meta: location abstractarray.jl checkbounds 342\n",
      "      # meta: location abstractarray.jl indices 64\n",
      "      (Base.arraysize)(resp_prefs::Array{Int64,2}, 1)::Int64\n",
      "      SSAValue(101) = (Base.arraysize)(resp_prefs::Array{Int64,2}, 2)::Int64\n",
      "      # meta: pop location\n",
      "      # meta: location abstractarray.jl checkbounds_indices 389\n",
      "      # meta: location abstractarray.jl checkbounds_indices 402\n",
      "      SSAValue(102) = (Core.getfield)(SSAValue(95), 2)::Int64\n",
      "      # meta: pop location\n",
      "      # meta: pop location\n",
      "      # meta: pop location\n",
      "      SSAValue(96) = (Base.and_int)(true, (Base.and_int)((Base.sle_int)(1, SSAValue(102))::Bool, (Base.sle_int)(SSAValue(102), (Base.select_value)((Base.slt_int)(SSAValue(101), 0)::Bool, 0, SSAValue(101))::Int64)::Bool)::Bool)::Bool\n",
      "      unless SSAValue(96) goto 331\n",
      "      goto 333\n",
      "      331: \n",
      "      $(Expr(:invoke, MethodInstance for throw_boundserror(::Array{Int64,2}, ::Tuple{Base.Slice{Base.OneTo{Int64}},Int64}), :(Base.throw_boundserror), :(resp_prefs), SSAValue(95)))\n",
      "      333: \n",
      "      # meta: pop location # line 442:\n",
      "      SSAValue(94) = $(Expr(:invoke, MethodInstance for _unsafe_getindex(::IndexLinear, ::Array{Int64,2}, ::Base.Slice{Base.OneTo{Int64}}, ::Int64), :(Base._unsafe_getindex), :($(QuoteNode(IndexLinear()))), :(resp_prefs), SSAValue(103), SSAValue(104)))\n",
      "      # meta: pop location\n",
      "      # meta: pop location\n",
      "      $(Expr(:inbounds, :pop))\n",
      "      # meta: pop location\n",
      "      x::Int64 = $(Expr(:invoke, MethodInstance for findnext(::Array{Int64,1}, ::Int64, ::Int64), :(Base.findnext), SSAValue(94), :(h), 1)) # line 50:\n",
      "      unless (Base.slt_int)(x::Int64, c::Int64)::Bool goto 346\n",
      "      #temp#@_37::Bool = (Base.not_int)((x::Int64 === 0)::Bool)::Bool\n",
      "      goto 348\n",
      "      346: \n",
      "      #temp#@_37::Bool = false\n",
      "      348: \n",
      "      unless #temp#@_37::Bool goto 369 # line 51:\n",
      "      (Base.arrayset)(prop_matches::Array{Int64,1}, d::Int64, h::Int64)::Array{Int64,1} # line 52:\n",
      "      SSAValue(105) = (Base.arrayref)(resp_prefs::Array{Int64,2}, c::Int64, d::Int64)::Int64\n",
      "      r::Int64 = $(Expr(:invoke, MethodInstance for findnext(::Array{Int64,1}, ::Int64, ::Int64), :(Base.findnext), :(X), SSAValue(105), 1)) # line 53:\n",
      "      unless (Base.not_int)(((Base.arrayref)(resp_matches::Array{Int64,1}, (Base.add_int)((Base.sub_int)((Base.arrayref)(indptr::Array{Int64,1}, d::Int64)::Int64, 1)::Int64, r::Int64)::Int64)::Int64 === 0)::Bool)::Bool goto 364 # line 54:\n",
      "      SSAValue(106) = (Base.arrayref)(resp_prefs::Array{Int64,2}, c::Int64, d::Int64)::Int64\n",
      "      (Base.arrayset)(prop_matches::Array{Int64,1}, 0, SSAValue(106))::Array{Int64,1} # line 55:\n",
      "      SSAValue(18) = (Base.arrayref)(resp_prefs::Array{Int64,2}, c::Int64, d::Int64)::Int64\n",
      "      SSAValue(19) = (Base.add_int)((Base.arrayref)(next_m_approach::Array{Int64,1}, SSAValue(18))::Int64, 1)::Int64\n",
      "      (Base.arrayset)(next_m_approach::Array{Int64,1}, SSAValue(19), SSAValue(18))::Array{Int64,1}\n",
      "      364:  # line 57:\n",
      "      SSAValue(107) = (Base.add_int)((Base.sub_int)((Base.arrayref)(indptr::Array{Int64,1}, d::Int64)::Int64, 1)::Int64, r::Int64)::Int64\n",
      "      (Base.arrayset)(resp_matches::Array{Int64,1}, h::Int64, SSAValue(107))::Array{Int64,1}\n",
      "      goto 373\n",
      "      369:  # line 59:\n",
      "      SSAValue(20) = (Base.add_int)((Base.arrayref)(next_m_approach::Array{Int64,1}, h::Int64)::Int64, 1)::Int64\n",
      "      (Base.arrayset)(next_m_approach::Array{Int64,1}, SSAValue(20), h::Int64)::Array{Int64,1}\n",
      "      373: \n",
      "      goto 378\n",
      "      375:  # line 62:\n",
      "      unchanged_counter::Int64 = (Base.add_int)(unchanged_counter::Int64, 1)::Int64\n",
      "      378: \n",
      "      goto 131\n",
      "      380: \n",
      "      goto 124\n",
      "      382:  # line 66:\n",
      "      return (Core.tuple)(prop_matches::Array{Int64,1}, resp_matches::Array{Int64,1}, indptr::Array{Int64,1})::Tuple{Array{Int64,1},Array{Int64,1},Array{Int64,1}}\n",
      "  end::Tuple{Array{Int64,1},Array{Int64,1},Array{Int64,1}}\n"
     ]
    }
   ],
   "source": [
    "@code_warntype deferred_acceptance(prop_prefs_v,resp_prefs_v,caps) #変数の型を調べる"
   ]
  },
  {
   "cell_type": "markdown",
   "metadata": {},
   "source": [
    "Any,Unionとなっている部分があればそこを直す。今回はaがAnyになっているが、これは場合によって長さが変わるベクトルなのでAnyと表示されているようです（a::Array{Int64,1}=…としてもAnyのまま）。  \n",
    "となると型の部分で直すとこはなさそうなので、アルゴリズム自体で無駄な部分を考える。今回は必要以上に反復されている46行目のfindfirst～の部分を削る。  \n",
    "最初から自身の選好の順位で記録すればわざわざ何回もfindfirstする必要がないのでは？"
   ]
  },
  {
   "cell_type": "code",
   "execution_count": 9,
   "metadata": {
    "collapsed": false
   },
   "outputs": [
    {
     "data": {
      "text/plain": [
       "deferred_acceptance_2 (generic function with 1 method)"
      ]
     },
     "execution_count": 9,
     "metadata": {},
     "output_type": "execute_result"
    }
   ],
   "source": [
    "function deferred_acceptance_2(m_prefs::Vector{Vector{Int}},f_prefs::Vector{Vector{Int}},caps::Vector{Int}) #弄った関数\n",
    "    m = length(m_prefs)\n",
    "    n = length(f_prefs)\n",
    "    prop_prefs = zeros(Int64,n+1,m)\n",
    "    resp_prefs = zeros(Int64,m+1,n)\n",
    "    \n",
    "    for male in 1:m\n",
    "        num = length(m_prefs[male])\n",
    "        for p in 1:num\n",
    "            prop_prefs[p,male] = m_prefs[male][p]\n",
    "        end\n",
    "    end\n",
    "    for fem in 1:n\n",
    "        numf = length(f_prefs[fem])\n",
    "        for q in 1:numf\n",
    "            resp_prefs[q,fem] = f_prefs[fem][q]\n",
    "        end\n",
    "    end\n",
    "\n",
    "    m = size(prop_prefs,2)\n",
    "    n = size(resp_prefs,2)\n",
    "    prop_matches = zeros(Int64,m)\n",
    "    L = sum(caps)\n",
    "    resp_matches = zeros(Int64,L)\n",
    "        \n",
    "    indptr = Array{Int64}(n+1)\n",
    "    indptr[1] = 1\n",
    "    for i in 1:n\n",
    "        indptr[i+1] = indptr[i] + caps[i]\n",
    "    end\n",
    "    \n",
    "    for fnum in 1:n\n",
    "        zeropref = findfirst(resp_prefs[:,fnum],0)\n",
    "        for wm in indptr[fnum]:indptr[fnum+1]-1\n",
    "            resp_matches[wm] = zeropref\n",
    "        end\n",
    "    end\n",
    "    \n",
    "    next = 1\n",
    "    next_m_approach = ones(Int64,m)\n",
    "\n",
    "\n",
    "    while next == 1\n",
    "        for h in 1:m\n",
    "            next = 0\n",
    "            if prop_matches[h] == 0\n",
    "                d = prop_prefs[next_m_approach[h],h]\n",
    "                if d == 0\n",
    "                    prop_matches[h] = 0\n",
    "                else\n",
    "                    if next != 1\n",
    "                        next =1\n",
    "                    end\n",
    "                    a = resp_matches[indptr[d]:indptr[d+1]-1]\n",
    "                    c = maximum(a)\n",
    "                    x = findfirst(resp_prefs[:,d],h)\n",
    "                    if c > x && x != 0\n",
    "                        prop_matches[h] = d\n",
    "                        r = findfirst(a,c)\n",
    "                        if resp_matches[indptr[d]-1+r] != findfirst(resp_prefs[:,d],0)\n",
    "                            prop_matches[resp_prefs[c,d]] = 0\n",
    "                            next_m_approach[resp_prefs[c,d]] += 1\n",
    "                        end\n",
    "                        resp_matches[indptr[d]-1+r] = x\n",
    "                    else\n",
    "                        next_m_approach[h] += 1\n",
    "                    end\n",
    "                end\n",
    "            end\n",
    "        end\n",
    "    end\n",
    "    \n",
    "    for iss in 1:n\n",
    "        for isss in indptr[iss]:indptr[iss+1]-1\n",
    "            resp_matches[isss] = resp_prefs[resp_matches[isss],iss]\n",
    "        end\n",
    "    end\n",
    "\n",
    "    return prop_matches,resp_matches,indptr\n",
    "end"
   ]
  },
  {
   "cell_type": "code",
   "execution_count": 10,
   "metadata": {
    "collapsed": false,
    "scrolled": true
   },
   "outputs": [
    {
     "name": "stdout",
     "output_type": "stream",
     "text": [
      "  1.198959 seconds (49.32 k allocations: 186.172 MiB, 26.23% gc time)\n",
      "  0.311945 seconds (18.46 k allocations: 184.781 MiB, 42.51% gc time)\n",
      "  0.317626 seconds (18.46 k allocations: 184.781 MiB, 41.28% gc time)\n"
     ]
    },
    {
     "data": {
      "text/plain": [
       "([1350, 1997, 1028, 1814, 1069, 991, 884, 1226, 1986, 1668  …  1126, 534, 1580, 7, 752, 1701, 385, 1147, 1790, 782], [129, 0, 0, 0, 0, 0, 0, 0, 0, 0  …  0, 0, 0, 0, 0, 0, 0, 0, 0, 0], [1, 994, 1499, 3337, 3411, 4067, 4445, 5268, 5749, 6790  …  1979201, 1981040, 1982795, 1983720, 1984910, 1986856, 1988255, 1989857, 1990389, 1991055])"
      ]
     },
     "execution_count": 10,
     "metadata": {},
     "output_type": "execute_result"
    }
   ],
   "source": [
    "@time deferred_acceptance_2(prop_prefs_v,resp_prefs_v,caps)\n",
    "@time deferred_acceptance_2(prop_prefs_v,resp_prefs_v,caps)\n",
    "@time deferred_acceptance_2(prop_prefs_v,resp_prefs_v,caps)"
   ]
  },
  {
   "cell_type": "markdown",
   "metadata": {},
   "source": [
    "無事速くなりました。"
   ]
  },
  {
   "cell_type": "code",
   "execution_count": 11,
   "metadata": {
    "collapsed": false,
    "scrolled": true
   },
   "outputs": [
    {
     "name": "stdout",
     "output_type": "stream",
     "text": [
      "144 .\\task.jl:335; (::IJulia.##11#14)()\n",
      " 144 ...Julia\\src\\eventloop.jl:8; eventloop(::ZMQ.Socket)\n",
      "  144 ...rc\\execute_request.jl:160; execute_request(::ZMQ.Socket, ::...\n",
      "   144 .\\<missing>:?; anonymous\n",
      "    144 .\\profile.jl:23; macro expansion\n",
      "     10 .\\In[9]:4; deferred_acceptance_2(::Array{...\n",
      "      7 .\\array.jl:227; fill!(::Array{Int64,2}, ::Int64)\n",
      "      2 .\\array.jl:228; fill!(::Array{Int64,2}, ::Int64)\n",
      "     9  .\\In[9]:5; deferred_acceptance_2(::Array{...\n",
      "      6 .\\array.jl:227; fill!(::Array{Int64,2}, ::Int64)\n",
      "      3 .\\array.jl:228; fill!(::Array{Int64,2}, ::Int64)\n",
      "     9  .\\In[9]:10; deferred_acceptance_2(::Array{...\n",
      "     3  .\\In[9]:15; deferred_acceptance_2(::Array{...\n",
      "     7  .\\In[9]:16; deferred_acceptance_2(::Array{...\n",
      "     4  .\\In[9]:24; deferred_acceptance_2(::Array{...\n",
      "     9  .\\In[9]:33; deferred_acceptance_2(::Array{...\n",
      "      9 .\\abstractarray.jl:882; getindex\n",
      "       9 .\\multidimensional.jl:438; _getindex\n",
      "        9 .\\multidimensional.jl:442; macro expansion\n",
      "         9 .\\multidimensional.jl:453; _unsafe_getindex(::IndexLinea...\n",
      "          1 .\\multidimensional.jl:458; macro expansion\n",
      "          7 .\\multidimensional.jl:460; macro expansion\n",
      "           7 .\\multidimensional.jl:466; _unsafe_getindex!\n",
      "            7 .\\multidimensional.jl:472; macro expansion\n",
      "             7 .\\cartesian.jl:64; macro expansion\n",
      "              7 ...ltidimensional.jl:474; macro expansion\n",
      "     5  .\\In[9]:35; deferred_acceptance_2(::Array{...\n",
      "     4  .\\In[9]:54; deferred_acceptance_2(::Array{...\n",
      "      1 .\\array.jl:528; getindex\n",
      "      2 .\\array.jl:530; getindex\n",
      "     1  .\\In[9]:55; deferred_acceptance_2(::Array{...\n",
      "     67 .\\In[9]:56; deferred_acceptance_2(::Array{...\n",
      "      67 .\\abstractarray.jl:882; getindex\n",
      "       67 .\\multidimensional.jl:438; _getindex\n",
      "        67 .\\multidimensional.jl:442; macro expansion\n",
      "         10 .\\multidimensional.jl:453; _unsafe_getindex(::IndexLinea...\n",
      "          2 .\\multidimensional.jl:458; macro expansion\n",
      "          8 .\\multidimensional.jl:460; macro expansion\n",
      "           8 .\\multidimensional.jl:466; _unsafe_getindex!\n",
      "            8 .\\multidimensional.jl:472; macro expansion\n",
      "             1 .\\cartesian.jl:62; macro expansion\n",
      "             7 .\\cartesian.jl:64; macro expansion\n",
      "              7 ...ltidimensional.jl:474; macro expansion\n",
      "     4  .\\In[9]:60; deferred_acceptance_2(::Array{...\n",
      "      4 .\\abstractarray.jl:882; getindex\n",
      "       4 .\\multidimensional.jl:438; _getindex\n",
      "        4 .\\multidimensional.jl:442; macro expansion\n",
      "         4 .\\multidimensional.jl:453; _unsafe_getindex(::IndexLinea...\n",
      "          4 .\\multidimensional.jl:460; macro expansion\n",
      "           4 .\\multidimensional.jl:466; _unsafe_getindex!\n",
      "            4 .\\multidimensional.jl:472; macro expansion\n",
      "             4 .\\cartesian.jl:64; macro expansion\n",
      "              4 ...ltidimensional.jl:474; macro expansion\n",
      "     5  .\\In[9]:75; deferred_acceptance_2(::Array{...\n",
      "     2  .\\array.jl:1212; findnext(::Array{Int64,1}, ::I...\n",
      "     5  .\\array.jl:1213; findnext(::Array{Int64,1}, ::I...\n"
     ]
    }
   ],
   "source": [
    "Profile.clear()\n",
    "@profile deferred_acceptance_2(prop_prefs_v,resp_prefs_v,caps)\n",
    "Profile.print()"
   ]
  },
  {
   "cell_type": "markdown",
   "metadata": {},
   "source": [
    "この結果を見るとfindfirst自体が遅いのではないかという気がします（  \n",
    "MyMatchingの関数も更新して一応テストを行います"
   ]
  },
  {
   "cell_type": "code",
   "execution_count": 12,
   "metadata": {
    "collapsed": false
   },
   "outputs": [
    {
     "name": "stderr",
     "output_type": "stream",
     "text": [
      "WARNING: using MyMatching.deferred_acceptance in module Main conflicts with an existing identifier.\n"
     ]
    }
   ],
   "source": [
    "using MyMatching"
   ]
  },
  {
   "cell_type": "code",
   "execution_count": 13,
   "metadata": {
    "collapsed": false
   },
   "outputs": [
    {
     "name": "stderr",
     "output_type": "stream",
     "text": [
      "\u001b[1m\u001b[36mINFO: \u001b[39m\u001b[22m\u001b[36mTesting MyMatching\n",
      "\u001b[39m"
     ]
    },
    {
     "name": "stdout",
     "output_type": "stream",
     "text": [
      "\u001b[1m\u001b[37mTest Summary:               | \u001b[39m\u001b[22m\u001b[1m\u001b[32mPass  \u001b[39m\u001b[22m\u001b[1m\u001b[36mTotal\u001b[39m\u001b[22m\n",
      "Testing deferred acceptance | \u001b[32m  24  \u001b[39m\u001b[36m   24\u001b[39m\n"
     ]
    },
    {
     "name": "stderr",
     "output_type": "stream",
     "text": [
      "\u001b[1m\u001b[36mINFO: \u001b[39m\u001b[22m\u001b[36mMyMatching tests passed\n",
      "\u001b[39m"
     ]
    }
   ],
   "source": [
    "Pkg.test(\"MyMatching\")"
   ]
  },
  {
   "cell_type": "markdown",
   "metadata": {},
   "source": [
    "あとはお互い第一志望同士だったらその人のところは飛ばして反復の回数を減らす、などでしょうか"
   ]
  }
 ],
 "metadata": {
  "kernelspec": {
   "display_name": "Julia 0.6.0",
   "language": "julia",
   "name": "julia-0.6"
  },
  "language_info": {
   "file_extension": ".jl",
   "mimetype": "application/julia",
   "name": "julia",
   "version": "0.6.0"
  }
 },
 "nbformat": 4,
 "nbformat_minor": 2
}
